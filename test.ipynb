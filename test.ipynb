{
 "cells": [
  {
   "cell_type": "code",
   "execution_count": 8,
   "metadata": {},
   "outputs": [
    {
     "name": "stdout",
     "output_type": "stream",
     "text": [
      "[[2.0696285  2.332175   1.9325666  ... 2.6652937  2.6247153  1.9914395 ]\n",
      " [2.0215545  1.6426278  1.8872997  ... 2.8854327  2.8630395  1.8904943 ]\n",
      " [2.9235446  2.560957   1.3623514  ... 2.2547119  3.4910293  2.4713252 ]\n",
      " ...\n",
      " [1.702957   0.535747   0.5830141  ... 2.2508435  1.9580364  0.        ]\n",
      " [0.87822306 5.589331   2.9763913  ... 4.313126   0.7988401  1.451422  ]\n",
      " [1.5469103  1.9129338  2.2542672  ... 0.88452566 0.45474395 0.95732605]]\n",
      "(500350, 32)\n",
      "Most frequent value: 0.606\n",
      "The 1000th most frequent value: 1.232\n"
     ]
    },
    {
     "data": {
      "image/png": "[encoded data removed]",
      "text/plain": [
       "<Figure size 432x288 with 1 Axes>"
      ]
     },
     "metadata": {
      "needs_background": "light"
     },
     "output_type": "display_data"
    }
   ],
   "source": [
    "import numpy as np\n",
    "import matplotlib.pyplot as plt\n",
    "\n",
    "feature_array = np.load('feature_array.npy')\n",
    "print(feature_array)\n",
    "print(feature_array.shape)\n",
    "\n",
    "# 提取第一列\n",
    "first_column = np.around(feature_array[:, 0], decimals=3)\n",
    "\n",
    "# 统计数值分布\n",
    "unique_values, counts = np.unique(first_column, return_counts=True)\n",
    "\n",
    "# 找到数量最多的值\n",
    "most_frequent_value = unique_values[np.argmax(counts)]\n",
    "print(\"Most frequent value:\", most_frequent_value)\n",
    "\n",
    "n = 1000  # 第 n 多的值\n",
    "sorted_indices = np.argsort(counts)\n",
    "nth_most_frequent_value = unique_values[sorted_indices[-n]]\n",
    "print(f\"The {n}th most frequent value:\", nth_most_frequent_value)\n",
    "\n",
    "# 绘制直方图\n",
    "plt.bar(unique_values, counts)\n",
    "plt.xlabel('Value')\n",
    "plt.ylabel('Frequency')\n",
    "plt.title('Distribution of First Column')\n",
    "plt.show()\n",
    "\n"
   ]
  },
  {
   "cell_type": "code",
   "execution_count": null,
   "metadata": {},
   "outputs": [],
   "source": [
    "# 要写入的数组\n",
    "my_array = [1, 2, 3, 4, 5]\n",
    "\n",
    "# 打开文件以进行写入\n",
    "with open(\"array.txt\", \"w\") as file:\n",
    "    # 将数组转换为字符串，每个元素之间用空格分隔\n",
    "    array_string = ' '.join(str(element) for element in my_array)\n",
    "    \n",
    "    # 将字符串写入文件\n",
    "    file.write(array_string)"
   ]
  },
  {
   "cell_type": "code",
   "execution_count": 8,
   "metadata": {},
   "outputs": [
    {
     "name": "stdout",
     "output_type": "stream",
     "text": [
      "False False None None None\n"
     ]
    },
    {
     "data": {
      "text/plain": [
       "False"
      ]
     },
     "execution_count": 8,
     "metadata": {},
     "output_type": "execute_result"
    }
   ],
   "source": [
    "import torch\n",
    "from torch.utils.data import DataLoader\n",
    "import numpy as np\n",
    "import time\n",
    "import logging\n",
    "import wandb\n",
    "\n",
    "from dataset.Spk251_train import Spk251_train\n",
    "from dataset.Spk251_test import Spk251_test \n",
    "\n",
    "from model.AudioNet import AudioNet\n",
    "\n",
    "from defense.defense import *\n",
    "import time\n",
    "\n",
    "model = AudioNet('./label-encoder-audionet-Spk251_test.txt')\n",
    "state_dict = torch.load('/home/ics/code_xwd/SEC4SR-deafbackdoor/model_file/好的预训练模型/natural-audionet_339', map_location='cuda')\n",
    "model.load_state_dict(state_dict)\n",
    "model.eval()\n",
    "\n",
    "model.training"
   ]
  },
  {
   "cell_type": "code",
   "execution_count": null,
   "metadata": {},
   "outputs": [],
   "source": [
    "x = [0,1,2,3,4,5,6]\n",
    "x[0:6]"
   ]
  }
 ],
 "metadata": {
  "kernelspec": {
   "display_name": "SEC4SR",
   "language": "python",
   "name": "python3"
  },
  "language_info": {
   "codemirror_mode": {
    "name": "ipython",
    "version": 3
   },
   "file_extension": ".py",
   "mimetype": "text/x-python",
   "name": "python",
   "nbconvert_exporter": "python",
   "pygments_lexer": "ipython3",
   "version": "3.7.0"
  },
  "orig_nbformat": 4
 },
 "nbformat": 4,
 "nbformat_minor": 2
}
